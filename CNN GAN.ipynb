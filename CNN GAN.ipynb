{
 "cells": [
  {
   "cell_type": "code",
   "execution_count": 1,
   "id": "1d46bff2",
   "metadata": {},
   "outputs": [],
   "source": [
    "import tensorflow as tf"
   ]
  },
  {
   "cell_type": "code",
   "execution_count": 14,
   "id": "de22d697",
   "metadata": {},
   "outputs": [],
   "source": [
    "import numpy as np\n",
    "import matplotlib.pyplot as plt\n",
    "import pandas as pd\n",
    "import sys, os\n",
    "from os import listdir\n",
    "\n",
    "from tensorflow.keras.layers import Input, Dense, Flatten, Conv2DTranspose, MaxPooling2D, Dropout, BatchNormalization, LeakyReLU, Reshape, Conv2D\n",
    "from tensorflow.keras.applications.vgg16 import VGG16 as PretrainedModel, preprocess_input\n",
    "from tensorflow.keras.models import Sequential, Model\n",
    "from tensorflow.keras.optimizers import Adam\n",
    "from tensorflow.keras.preprocessing import image"
   ]
  },
  {
   "cell_type": "code",
   "execution_count": 11,
   "id": "a785247f",
   "metadata": {},
   "outputs": [],
   "source": [
    "# importing the file and check the directories\n",
    "from PIL import Image\n",
    "import os, numpy as np\n",
    "folder = '/Users/t.kan/Desktop/CNN/test_images'\n",
    "\n",
    "read = lambda imname: np.asarray(Image.open(imname).convert(\"RGB\"))\n",
    "\n",
    "ims = [read(os.path.join(folder, filename)) for filename in os.listdir(folder)]\n",
    "im_array = np.array(ims, dtype='uint8')\n",
    "im_array = (im_array / 255.0)*2 - 1"
   ]
  },
  {
   "cell_type": "code",
   "execution_count": 13,
   "id": "a06ff91d",
   "metadata": {},
   "outputs": [],
   "source": [
    "latent_dim = 100"
   ]
  },
  {
   "cell_type": "code",
   "execution_count": 21,
   "id": "9c1ca1ce",
   "metadata": {},
   "outputs": [],
   "source": [
    "def build_generator(letent_dim):\n",
    "    model = Sequential()\n",
    "    \n",
    "    model.add(Dense(256*8*8,input_shape=(latent_dim,)))\n",
    "    model.add(LeakyReLU(alpha=0.2))\n",
    "    model.add(Reshape((8,8,256)))\n",
    "    \n",
    "    model.add(Conv2DTranspose(128, (5,5), strides = 4, padding = \"same\"))\n",
    "    model.add(LeakyReLU(alpha=0.2))\n",
    "    \n",
    "    model.add(Conv2DTranspose(128, (5,5), strides = 4, padding = \"same\"))\n",
    "    model.add(LeakyReLU(alpha=0.2))\n",
    "    \n",
    "    model.add(Conv2DTranspose(128, (5,5), strides = 4, padding = \"same\"))\n",
    "    model.add(LeakyReLU(alpha=0.2))\n",
    "    \n",
    "    model.add(Conv2DTranspose(3, (3,3), padding = \"same\", activation = \"tanh\"))\n",
    "    \n",
    "    i = Input(shape=(latent_dim,))\n",
    "    x = model(i)\n",
    "    \n",
    "    return Model(i,x)"
   ]
  },
  {
   "cell_type": "code",
   "execution_count": 22,
   "id": "0cb9d8c7",
   "metadata": {},
   "outputs": [
    {
     "name": "stdout",
     "output_type": "stream",
     "text": [
      "Model: \"model\"\n",
      "_________________________________________________________________\n",
      " Layer (type)                Output Shape              Param #   \n",
      "=================================================================\n",
      " input_1 (InputLayer)        [(None, 100)]             0         \n",
      "                                                                 \n",
      " sequential_3 (Sequential)   (None, 512, 512, 3)       3297027   \n",
      "                                                                 \n",
      "=================================================================\n",
      "Total params: 3,297,027\n",
      "Trainable params: 3,297,027\n",
      "Non-trainable params: 0\n",
      "_________________________________________________________________\n"
     ]
    }
   ],
   "source": [
    "generator_check = build_generator(latent_dim)\n",
    "generator_check.summary()"
   ]
  },
  {
   "cell_type": "code",
   "execution_count": 25,
   "id": "293357b4",
   "metadata": {},
   "outputs": [],
   "source": [
    "def build_discriminator(image_size):\n",
    "    model = Sequential()\n",
    "    \n",
    "    model.add(Conv2D(64,(5,5), strides=4, padding = \"same\", input_shape=image_size))\n",
    "    model.add(LeakyReLU(alpha=0.2))\n",
    "    \n",
    "    model.add(Conv2D(128,(5,5), strides=4, padding = \"same\"))\n",
    "    model.add(LeakyReLU(alpha=0.2))\n",
    "    \n",
    "    model.add(Conv2D(128,(5,5), strides=4, padding = \"same\"))\n",
    "    model.add(LeakyReLU(alpha=0.2))\n",
    "    \n",
    "    model.add(Conv2D(256,(5,5), strides=4, padding = \"same\"))\n",
    "    model.add(LeakyReLU(alpha=0.2))\n",
    "    \n",
    "    model.add(Flatten())\n",
    "    model.add(Dropout(0.4))\n",
    "    model.add(Dense(1, activation=\"sigmoid\"))\n",
    "    \n",
    "    i = Input(shape=image_size)\n",
    "    x = model(i)\n",
    "    \n",
    "    return Model(i,x)"
   ]
  },
  {
   "cell_type": "code",
   "execution_count": 26,
   "id": "eacf4519",
   "metadata": {},
   "outputs": [
    {
     "name": "stdout",
     "output_type": "stream",
     "text": [
      "Model: \"model_1\"\n",
      "_________________________________________________________________\n",
      " Layer (type)                Output Shape              Param #   \n",
      "=================================================================\n",
      " input_2 (InputLayer)        [(None, 512, 512, 3)]     0         \n",
      "                                                                 \n",
      " sequential_5 (Sequential)   (None, 1)                 1440001   \n",
      "                                                                 \n",
      "=================================================================\n",
      "Total params: 1,440,001\n",
      "Trainable params: 1,440,001\n",
      "Non-trainable params: 0\n",
      "_________________________________________________________________\n"
     ]
    }
   ],
   "source": [
    "discriminator_check = build_discriminator((512,512,3))\n",
    "discriminator_check.summary()"
   ]
  },
  {
   "cell_type": "code",
   "execution_count": 27,
   "id": "cd758133",
   "metadata": {},
   "outputs": [],
   "source": [
    "discriminator = build_discriminator([512,512,3])\n",
    "discriminator.compile(optimizer = Adam(0.0002, 0.5),\n",
    "                      loss = \"binary_crossentropy\",\n",
    "                      metrics = [\"accuracy\"])\n",
    "\n",
    "generator = build_generator(latent_dim)"
   ]
  },
  {
   "cell_type": "code",
   "execution_count": 28,
   "id": "ff498006",
   "metadata": {},
   "outputs": [
    {
     "name": "stdout",
     "output_type": "stream",
     "text": [
      "Model: \"model_4\"\n",
      "_________________________________________________________________\n",
      " Layer (type)                Output Shape              Param #   \n",
      "=================================================================\n",
      " input_5 (InputLayer)        [(None, 100)]             0         \n",
      "                                                                 \n",
      " model_3 (Functional)        (None, 512, 512, 3)       3297027   \n",
      "                                                                 \n",
      " model_2 (Functional)        (None, 1)                 1440001   \n",
      "                                                                 \n",
      "=================================================================\n",
      "Total params: 4,737,028\n",
      "Trainable params: 3,297,027\n",
      "Non-trainable params: 1,440,001\n",
      "_________________________________________________________________\n"
     ]
    }
   ],
   "source": [
    "z = Input(shape=(latent_dim,))\n",
    "\n",
    "img = generator(z)\n",
    "\n",
    "discriminator.trainable = False\n",
    "\n",
    "fake_pred = discriminator(img)\n",
    "\n",
    "combined_model = Model(z, fake_pred)\n",
    "\n",
    "combined_model.compile(optimizer = Adam(0.0002, 0.5),\n",
    "                       loss = \"binary_crossentropy\")\n",
    "\n",
    "combined_model.summary()"
   ]
  },
  {
   "cell_type": "code",
   "execution_count": 33,
   "id": "76b40017",
   "metadata": {},
   "outputs": [],
   "source": [
    "batch_size = 8\n",
    "epochs = 10001\n",
    "sample_period = 1000\n",
    "\n",
    "ones = np.ones(batch_size)\n",
    "zeros = np.zeros(batch_size)\n",
    "\n",
    "d_losses = []\n",
    "g_losses = []\n",
    "\n",
    "if not os.path.exists(\"/Users/t.kan/Desktop/CNN/gan_images\"):\n",
    "    os.makedirs(\"/Users/t.kan/Desktop/CNN/gan_images\")\n",
    "    \n",
    "if not os.path.exists(\"/Users/t.kan/Desktop/CNN/model_dir\"):\n",
    "    os.makedirs(\"/Users/t.kan/Desktop/CNN/model_dir\")"
   ]
  },
  {
   "cell_type": "code",
   "execution_count": 31,
   "id": "6ccb2817",
   "metadata": {},
   "outputs": [],
   "source": [
    "def sample_images(epoch):\n",
    "    rows, cols = 5, 5\n",
    "    noise = np.random.randn(rows*cols, latent_dim)\n",
    "    imgs = generator.predict(noise)\n",
    "\n",
    "  # rescaling image from -1 to 1 to 0 to 1\n",
    "    imgs = imgs * 0.5 + 0.5\n",
    "\n",
    "    fig, axs = plt.subplots(rows, cols)\n",
    "    idx = 0\n",
    "    for i in range(rows):\n",
    "        for j in range(cols):\n",
    "            axs[i,j].imshow(imgs[idx].reshape(512,512,3))\n",
    "            axs[i,j].axis(\"off\")\n",
    "            idx += 1\n",
    "    fig.savefig(\"/Users/t.kan/Desktop/CNN/gan_images/%d.png\" % epoch)\n",
    "    plt.close()"
   ]
  },
  {
   "cell_type": "code",
   "execution_count": null,
   "id": "711cbee8",
   "metadata": {},
   "outputs": [
    {
     "name": "stdout",
     "output_type": "stream",
     "text": [
      "4/4 [==============================] - 106s 21s/step\n"
     ]
    }
   ],
   "source": [
    "for epoch in range(epochs):\n",
    "\n",
    "  ## train discriminator ##\n",
    "\n",
    "  # get random batches of real images\n",
    "    idx = np.random.randint(0, 8, batch_size)\n",
    "    real_imgs = im_array[idx]\n",
    "\n",
    "  # generate fake images\n",
    "    noise = np.random.randn(batch_size, latent_dim)\n",
    "    fake_imgs = generator.predict(noise)\n",
    "\n",
    "  # use train_on_batch to train discriminator\n",
    "    d_loss_real, d_acc_real = discriminator.train_on_batch(real_imgs, ones)\n",
    "    d_loss_fake, d_acc_fake = discriminator.train_on_batch(fake_imgs, zeros)\n",
    "    d_loss = (d_loss_real + d_loss_fake) / 2\n",
    "    d_acc = (d_acc_real + d_acc_fake) / 2\n",
    "\n",
    "  ## train generator ##\n",
    "\n",
    "  # by calling combined model and optimize for the freezed discriminator values to ones\n",
    "  # we can optimize generator to generate real like images\n",
    "    noise = np.random.randn(batch_size, latent_dim)\n",
    "    g_loss = combined_model.train_on_batch(noise, ones)\n",
    "\n",
    "    d_losses.append(d_loss)\n",
    "    g_losses.append(g_loss)\n",
    "\n",
    "    if epoch % 10 == 0:\n",
    "        print(f\"epoch: {epoch+1} / {epochs}, d_loss: {d_loss:.2f}, d_acc: {d_acc:.2f}, g_loss: {g_loss:.2f}\")\n",
    "\n",
    "    if epoch % sample_period == 0:\n",
    "        sample_images(epoch)\n",
    "        gen_weights = generator.get_weights()\n",
    "        dis_weights = discriminator.get_weights()\n",
    "        np.save(os.path.join(\"/Users/t.kan/Desktop/CNN/model_dir\", 'dcgan_generator_weights'), gen_weights)\n",
    "        np.save(os.path.join(\"/Users/t.kan/Desktop/CNN/model_dir\", 'dcgan_discriminator_weights'), dis_weights)\n",
    "        \n",
    "\n",
    "generator.save(os.path.join(\"/Users/t.kan/Desktop/CNN/model_dir\", 'dcgan_generator.h5'))\n",
    "discriminator.save(os.path.join(\"/Users/t.kan/Desktop/CNN/model_dir\", 'dcgan_discriminator.h5'))"
   ]
  },
  {
   "cell_type": "code",
   "execution_count": null,
   "id": "c1f94bd4",
   "metadata": {},
   "outputs": [],
   "source": []
  }
 ],
 "metadata": {
  "kernelspec": {
   "display_name": "Python 3 (ipykernel)",
   "language": "python",
   "name": "python3"
  },
  "language_info": {
   "codemirror_mode": {
    "name": "ipython",
    "version": 3
   },
   "file_extension": ".py",
   "mimetype": "text/x-python",
   "name": "python",
   "nbconvert_exporter": "python",
   "pygments_lexer": "ipython3",
   "version": "3.9.7"
  }
 },
 "nbformat": 4,
 "nbformat_minor": 5
}
